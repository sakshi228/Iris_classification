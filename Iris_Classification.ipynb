{
  "nbformat": 4,
  "nbformat_minor": 0,
  "metadata": {
    "colab": {
      "provenance": [],
      "authorship_tag": "ABX9TyOBkG5YNixwOtyEjbHD3xNL",
      "include_colab_link": true
    },
    "kernelspec": {
      "name": "python3",
      "display_name": "Python 3"
    },
    "language_info": {
      "name": "python"
    }
  },
  "cells": [
    {
      "cell_type": "markdown",
      "metadata": {
        "id": "view-in-github",
        "colab_type": "text"
      },
      "source": [
        "<a href=\"https://colab.research.google.com/github/sakshi228/Iris_classification/blob/main/Iris_Classification.ipynb\" target=\"_parent\"><img src=\"https://colab.research.google.com/assets/colab-badge.svg\" alt=\"Open In Colab\"/></a>"
      ]
    },
    {
      "cell_type": "code",
      "execution_count": 1,
      "metadata": {
        "id": "rY2cjwKJR1OU"
      },
      "outputs": [],
      "source": [
        "import pandas as pd\n",
        "import numpy as np\n",
        "import seaborn as sns\n",
        "import matplotlib.pyplot as plt\n",
        "from tensorflow import keras"
      ]
    },
    {
      "cell_type": "code",
      "source": [
        "df = pd.read_csv('/content/Iris.csv')\n",
        "df.head()\n",
        ""
      ],
      "metadata": {
        "colab": {
          "base_uri": "https://localhost:8080/",
          "height": 206
        },
        "id": "mBkID6G7SN--",
        "outputId": "02d4b886-10c9-42c5-c0d7-44254b82fb70"
      },
      "execution_count": 2,
      "outputs": [
        {
          "output_type": "execute_result",
          "data": {
            "text/plain": [
              "   Id  SepalLengthCm  SepalWidthCm  PetalLengthCm  PetalWidthCm      Species\n",
              "0   1            5.1           3.5            1.4           0.2  Iris-setosa\n",
              "1   2            4.9           3.0            1.4           0.2  Iris-setosa\n",
              "2   3            4.7           3.2            1.3           0.2  Iris-setosa\n",
              "3   4            4.6           3.1            1.5           0.2  Iris-setosa\n",
              "4   5            5.0           3.6            1.4           0.2  Iris-setosa"
            ],
            "text/html": [
              "\n",
              "  <div id=\"df-5e0e96c6-5352-4023-8407-2fb6ac922794\" class=\"colab-df-container\">\n",
              "    <div>\n",
              "<style scoped>\n",
              "    .dataframe tbody tr th:only-of-type {\n",
              "        vertical-align: middle;\n",
              "    }\n",
              "\n",
              "    .dataframe tbody tr th {\n",
              "        vertical-align: top;\n",
              "    }\n",
              "\n",
              "    .dataframe thead th {\n",
              "        text-align: right;\n",
              "    }\n",
              "</style>\n",
              "<table border=\"1\" class=\"dataframe\">\n",
              "  <thead>\n",
              "    <tr style=\"text-align: right;\">\n",
              "      <th></th>\n",
              "      <th>Id</th>\n",
              "      <th>SepalLengthCm</th>\n",
              "      <th>SepalWidthCm</th>\n",
              "      <th>PetalLengthCm</th>\n",
              "      <th>PetalWidthCm</th>\n",
              "      <th>Species</th>\n",
              "    </tr>\n",
              "  </thead>\n",
              "  <tbody>\n",
              "    <tr>\n",
              "      <th>0</th>\n",
              "      <td>1</td>\n",
              "      <td>5.1</td>\n",
              "      <td>3.5</td>\n",
              "      <td>1.4</td>\n",
              "      <td>0.2</td>\n",
              "      <td>Iris-setosa</td>\n",
              "    </tr>\n",
              "    <tr>\n",
              "      <th>1</th>\n",
              "      <td>2</td>\n",
              "      <td>4.9</td>\n",
              "      <td>3.0</td>\n",
              "      <td>1.4</td>\n",
              "      <td>0.2</td>\n",
              "      <td>Iris-setosa</td>\n",
              "    </tr>\n",
              "    <tr>\n",
              "      <th>2</th>\n",
              "      <td>3</td>\n",
              "      <td>4.7</td>\n",
              "      <td>3.2</td>\n",
              "      <td>1.3</td>\n",
              "      <td>0.2</td>\n",
              "      <td>Iris-setosa</td>\n",
              "    </tr>\n",
              "    <tr>\n",
              "      <th>3</th>\n",
              "      <td>4</td>\n",
              "      <td>4.6</td>\n",
              "      <td>3.1</td>\n",
              "      <td>1.5</td>\n",
              "      <td>0.2</td>\n",
              "      <td>Iris-setosa</td>\n",
              "    </tr>\n",
              "    <tr>\n",
              "      <th>4</th>\n",
              "      <td>5</td>\n",
              "      <td>5.0</td>\n",
              "      <td>3.6</td>\n",
              "      <td>1.4</td>\n",
              "      <td>0.2</td>\n",
              "      <td>Iris-setosa</td>\n",
              "    </tr>\n",
              "  </tbody>\n",
              "</table>\n",
              "</div>\n",
              "    <div class=\"colab-df-buttons\">\n",
              "\n",
              "  <div class=\"colab-df-container\">\n",
              "    <button class=\"colab-df-convert\" onclick=\"convertToInteractive('df-5e0e96c6-5352-4023-8407-2fb6ac922794')\"\n",
              "            title=\"Convert this dataframe to an interactive table.\"\n",
              "            style=\"display:none;\">\n",
              "\n",
              "  <svg xmlns=\"http://www.w3.org/2000/svg\" height=\"24px\" viewBox=\"0 -960 960 960\">\n",
              "    <path d=\"M120-120v-720h720v720H120Zm60-500h600v-160H180v160Zm220 220h160v-160H400v160Zm0 220h160v-160H400v160ZM180-400h160v-160H180v160Zm440 0h160v-160H620v160ZM180-180h160v-160H180v160Zm440 0h160v-160H620v160Z\"/>\n",
              "  </svg>\n",
              "    </button>\n",
              "\n",
              "  <style>\n",
              "    .colab-df-container {\n",
              "      display:flex;\n",
              "      gap: 12px;\n",
              "    }\n",
              "\n",
              "    .colab-df-convert {\n",
              "      background-color: #E8F0FE;\n",
              "      border: none;\n",
              "      border-radius: 50%;\n",
              "      cursor: pointer;\n",
              "      display: none;\n",
              "      fill: #1967D2;\n",
              "      height: 32px;\n",
              "      padding: 0 0 0 0;\n",
              "      width: 32px;\n",
              "    }\n",
              "\n",
              "    .colab-df-convert:hover {\n",
              "      background-color: #E2EBFA;\n",
              "      box-shadow: 0px 1px 2px rgba(60, 64, 67, 0.3), 0px 1px 3px 1px rgba(60, 64, 67, 0.15);\n",
              "      fill: #174EA6;\n",
              "    }\n",
              "\n",
              "    .colab-df-buttons div {\n",
              "      margin-bottom: 4px;\n",
              "    }\n",
              "\n",
              "    [theme=dark] .colab-df-convert {\n",
              "      background-color: #3B4455;\n",
              "      fill: #D2E3FC;\n",
              "    }\n",
              "\n",
              "    [theme=dark] .colab-df-convert:hover {\n",
              "      background-color: #434B5C;\n",
              "      box-shadow: 0px 1px 3px 1px rgba(0, 0, 0, 0.15);\n",
              "      filter: drop-shadow(0px 1px 2px rgba(0, 0, 0, 0.3));\n",
              "      fill: #FFFFFF;\n",
              "    }\n",
              "  </style>\n",
              "\n",
              "    <script>\n",
              "      const buttonEl =\n",
              "        document.querySelector('#df-5e0e96c6-5352-4023-8407-2fb6ac922794 button.colab-df-convert');\n",
              "      buttonEl.style.display =\n",
              "        google.colab.kernel.accessAllowed ? 'block' : 'none';\n",
              "\n",
              "      async function convertToInteractive(key) {\n",
              "        const element = document.querySelector('#df-5e0e96c6-5352-4023-8407-2fb6ac922794');\n",
              "        const dataTable =\n",
              "          await google.colab.kernel.invokeFunction('convertToInteractive',\n",
              "                                                    [key], {});\n",
              "        if (!dataTable) return;\n",
              "\n",
              "        const docLinkHtml = 'Like what you see? Visit the ' +\n",
              "          '<a target=\"_blank\" href=https://colab.research.google.com/notebooks/data_table.ipynb>data table notebook</a>'\n",
              "          + ' to learn more about interactive tables.';\n",
              "        element.innerHTML = '';\n",
              "        dataTable['output_type'] = 'display_data';\n",
              "        await google.colab.output.renderOutput(dataTable, element);\n",
              "        const docLink = document.createElement('div');\n",
              "        docLink.innerHTML = docLinkHtml;\n",
              "        element.appendChild(docLink);\n",
              "      }\n",
              "    </script>\n",
              "  </div>\n",
              "\n",
              "\n",
              "<div id=\"df-f35f84bf-7f73-4f7c-893e-136a1910fa38\">\n",
              "  <button class=\"colab-df-quickchart\" onclick=\"quickchart('df-f35f84bf-7f73-4f7c-893e-136a1910fa38')\"\n",
              "            title=\"Suggest charts\"\n",
              "            style=\"display:none;\">\n",
              "\n",
              "<svg xmlns=\"http://www.w3.org/2000/svg\" height=\"24px\"viewBox=\"0 0 24 24\"\n",
              "     width=\"24px\">\n",
              "    <g>\n",
              "        <path d=\"M19 3H5c-1.1 0-2 .9-2 2v14c0 1.1.9 2 2 2h14c1.1 0 2-.9 2-2V5c0-1.1-.9-2-2-2zM9 17H7v-7h2v7zm4 0h-2V7h2v10zm4 0h-2v-4h2v4z\"/>\n",
              "    </g>\n",
              "</svg>\n",
              "  </button>\n",
              "\n",
              "<style>\n",
              "  .colab-df-quickchart {\n",
              "      --bg-color: #E8F0FE;\n",
              "      --fill-color: #1967D2;\n",
              "      --hover-bg-color: #E2EBFA;\n",
              "      --hover-fill-color: #174EA6;\n",
              "      --disabled-fill-color: #AAA;\n",
              "      --disabled-bg-color: #DDD;\n",
              "  }\n",
              "\n",
              "  [theme=dark] .colab-df-quickchart {\n",
              "      --bg-color: #3B4455;\n",
              "      --fill-color: #D2E3FC;\n",
              "      --hover-bg-color: #434B5C;\n",
              "      --hover-fill-color: #FFFFFF;\n",
              "      --disabled-bg-color: #3B4455;\n",
              "      --disabled-fill-color: #666;\n",
              "  }\n",
              "\n",
              "  .colab-df-quickchart {\n",
              "    background-color: var(--bg-color);\n",
              "    border: none;\n",
              "    border-radius: 50%;\n",
              "    cursor: pointer;\n",
              "    display: none;\n",
              "    fill: var(--fill-color);\n",
              "    height: 32px;\n",
              "    padding: 0;\n",
              "    width: 32px;\n",
              "  }\n",
              "\n",
              "  .colab-df-quickchart:hover {\n",
              "    background-color: var(--hover-bg-color);\n",
              "    box-shadow: 0 1px 2px rgba(60, 64, 67, 0.3), 0 1px 3px 1px rgba(60, 64, 67, 0.15);\n",
              "    fill: var(--button-hover-fill-color);\n",
              "  }\n",
              "\n",
              "  .colab-df-quickchart-complete:disabled,\n",
              "  .colab-df-quickchart-complete:disabled:hover {\n",
              "    background-color: var(--disabled-bg-color);\n",
              "    fill: var(--disabled-fill-color);\n",
              "    box-shadow: none;\n",
              "  }\n",
              "\n",
              "  .colab-df-spinner {\n",
              "    border: 2px solid var(--fill-color);\n",
              "    border-color: transparent;\n",
              "    border-bottom-color: var(--fill-color);\n",
              "    animation:\n",
              "      spin 1s steps(1) infinite;\n",
              "  }\n",
              "\n",
              "  @keyframes spin {\n",
              "    0% {\n",
              "      border-color: transparent;\n",
              "      border-bottom-color: var(--fill-color);\n",
              "      border-left-color: var(--fill-color);\n",
              "    }\n",
              "    20% {\n",
              "      border-color: transparent;\n",
              "      border-left-color: var(--fill-color);\n",
              "      border-top-color: var(--fill-color);\n",
              "    }\n",
              "    30% {\n",
              "      border-color: transparent;\n",
              "      border-left-color: var(--fill-color);\n",
              "      border-top-color: var(--fill-color);\n",
              "      border-right-color: var(--fill-color);\n",
              "    }\n",
              "    40% {\n",
              "      border-color: transparent;\n",
              "      border-right-color: var(--fill-color);\n",
              "      border-top-color: var(--fill-color);\n",
              "    }\n",
              "    60% {\n",
              "      border-color: transparent;\n",
              "      border-right-color: var(--fill-color);\n",
              "    }\n",
              "    80% {\n",
              "      border-color: transparent;\n",
              "      border-right-color: var(--fill-color);\n",
              "      border-bottom-color: var(--fill-color);\n",
              "    }\n",
              "    90% {\n",
              "      border-color: transparent;\n",
              "      border-bottom-color: var(--fill-color);\n",
              "    }\n",
              "  }\n",
              "</style>\n",
              "\n",
              "  <script>\n",
              "    async function quickchart(key) {\n",
              "      const quickchartButtonEl =\n",
              "        document.querySelector('#' + key + ' button');\n",
              "      quickchartButtonEl.disabled = true;  // To prevent multiple clicks.\n",
              "      quickchartButtonEl.classList.add('colab-df-spinner');\n",
              "      try {\n",
              "        const charts = await google.colab.kernel.invokeFunction(\n",
              "            'suggestCharts', [key], {});\n",
              "      } catch (error) {\n",
              "        console.error('Error during call to suggestCharts:', error);\n",
              "      }\n",
              "      quickchartButtonEl.classList.remove('colab-df-spinner');\n",
              "      quickchartButtonEl.classList.add('colab-df-quickchart-complete');\n",
              "    }\n",
              "    (() => {\n",
              "      let quickchartButtonEl =\n",
              "        document.querySelector('#df-f35f84bf-7f73-4f7c-893e-136a1910fa38 button');\n",
              "      quickchartButtonEl.style.display =\n",
              "        google.colab.kernel.accessAllowed ? 'block' : 'none';\n",
              "    })();\n",
              "  </script>\n",
              "</div>\n",
              "    </div>\n",
              "  </div>\n"
            ]
          },
          "metadata": {},
          "execution_count": 2
        }
      ]
    },
    {
      "cell_type": "code",
      "source": [
        "df['Species'].value_counts()\n"
      ],
      "metadata": {
        "colab": {
          "base_uri": "https://localhost:8080/"
        },
        "id": "o5kAaNktSQBd",
        "outputId": "bf7621e1-1cf8-4b06-e646-d89295c3bfda"
      },
      "execution_count": 3,
      "outputs": [
        {
          "output_type": "execute_result",
          "data": {
            "text/plain": [
              "Iris-setosa        50\n",
              "Iris-versicolor    50\n",
              "Iris-virginica     50\n",
              "Name: Species, dtype: int64"
            ]
          },
          "metadata": {},
          "execution_count": 3
        }
      ]
    },
    {
      "cell_type": "code",
      "source": [
        "df.info()"
      ],
      "metadata": {
        "colab": {
          "base_uri": "https://localhost:8080/"
        },
        "id": "x1ZwTSP5SSyH",
        "outputId": "76376d04-cc71-4459-ef79-7358f12d5663"
      },
      "execution_count": 4,
      "outputs": [
        {
          "output_type": "stream",
          "name": "stdout",
          "text": [
            "<class 'pandas.core.frame.DataFrame'>\n",
            "RangeIndex: 150 entries, 0 to 149\n",
            "Data columns (total 6 columns):\n",
            " #   Column         Non-Null Count  Dtype  \n",
            "---  ------         --------------  -----  \n",
            " 0   Id             150 non-null    int64  \n",
            " 1   SepalLengthCm  150 non-null    float64\n",
            " 2   SepalWidthCm   150 non-null    float64\n",
            " 3   PetalLengthCm  150 non-null    float64\n",
            " 4   PetalWidthCm   150 non-null    float64\n",
            " 5   Species        150 non-null    object \n",
            "dtypes: float64(4), int64(1), object(1)\n",
            "memory usage: 7.2+ KB\n"
          ]
        }
      ]
    },
    {
      "cell_type": "code",
      "source": [
        "df.isnull().sum()"
      ],
      "metadata": {
        "colab": {
          "base_uri": "https://localhost:8080/"
        },
        "id": "peIr-8epSUZq",
        "outputId": "d858515c-aa42-435c-9022-917831613f20"
      },
      "execution_count": 5,
      "outputs": [
        {
          "output_type": "execute_result",
          "data": {
            "text/plain": [
              "Id               0\n",
              "SepalLengthCm    0\n",
              "SepalWidthCm     0\n",
              "PetalLengthCm    0\n",
              "PetalWidthCm     0\n",
              "Species          0\n",
              "dtype: int64"
            ]
          },
          "metadata": {},
          "execution_count": 5
        }
      ]
    },
    {
      "cell_type": "code",
      "source": [
        "from sklearn.preprocessing import LabelEncoder\n",
        "le = LabelEncoder()\n",
        "df['Species'] = le.fit_transform(df['Species'])\n",
        "df.head()"
      ],
      "metadata": {
        "colab": {
          "base_uri": "https://localhost:8080/",
          "height": 206
        },
        "id": "szvSc-TnSXqm",
        "outputId": "1df8aee3-abe6-46f7-9322-e9bf3a108371"
      },
      "execution_count": 6,
      "outputs": [
        {
          "output_type": "execute_result",
          "data": {
            "text/plain": [
              "   Id  SepalLengthCm  SepalWidthCm  PetalLengthCm  PetalWidthCm  Species\n",
              "0   1            5.1           3.5            1.4           0.2        0\n",
              "1   2            4.9           3.0            1.4           0.2        0\n",
              "2   3            4.7           3.2            1.3           0.2        0\n",
              "3   4            4.6           3.1            1.5           0.2        0\n",
              "4   5            5.0           3.6            1.4           0.2        0"
            ],
            "text/html": [
              "\n",
              "  <div id=\"df-451ee8f9-4d45-41b3-8fdd-5adfca1b6dd9\" class=\"colab-df-container\">\n",
              "    <div>\n",
              "<style scoped>\n",
              "    .dataframe tbody tr th:only-of-type {\n",
              "        vertical-align: middle;\n",
              "    }\n",
              "\n",
              "    .dataframe tbody tr th {\n",
              "        vertical-align: top;\n",
              "    }\n",
              "\n",
              "    .dataframe thead th {\n",
              "        text-align: right;\n",
              "    }\n",
              "</style>\n",
              "<table border=\"1\" class=\"dataframe\">\n",
              "  <thead>\n",
              "    <tr style=\"text-align: right;\">\n",
              "      <th></th>\n",
              "      <th>Id</th>\n",
              "      <th>SepalLengthCm</th>\n",
              "      <th>SepalWidthCm</th>\n",
              "      <th>PetalLengthCm</th>\n",
              "      <th>PetalWidthCm</th>\n",
              "      <th>Species</th>\n",
              "    </tr>\n",
              "  </thead>\n",
              "  <tbody>\n",
              "    <tr>\n",
              "      <th>0</th>\n",
              "      <td>1</td>\n",
              "      <td>5.1</td>\n",
              "      <td>3.5</td>\n",
              "      <td>1.4</td>\n",
              "      <td>0.2</td>\n",
              "      <td>0</td>\n",
              "    </tr>\n",
              "    <tr>\n",
              "      <th>1</th>\n",
              "      <td>2</td>\n",
              "      <td>4.9</td>\n",
              "      <td>3.0</td>\n",
              "      <td>1.4</td>\n",
              "      <td>0.2</td>\n",
              "      <td>0</td>\n",
              "    </tr>\n",
              "    <tr>\n",
              "      <th>2</th>\n",
              "      <td>3</td>\n",
              "      <td>4.7</td>\n",
              "      <td>3.2</td>\n",
              "      <td>1.3</td>\n",
              "      <td>0.2</td>\n",
              "      <td>0</td>\n",
              "    </tr>\n",
              "    <tr>\n",
              "      <th>3</th>\n",
              "      <td>4</td>\n",
              "      <td>4.6</td>\n",
              "      <td>3.1</td>\n",
              "      <td>1.5</td>\n",
              "      <td>0.2</td>\n",
              "      <td>0</td>\n",
              "    </tr>\n",
              "    <tr>\n",
              "      <th>4</th>\n",
              "      <td>5</td>\n",
              "      <td>5.0</td>\n",
              "      <td>3.6</td>\n",
              "      <td>1.4</td>\n",
              "      <td>0.2</td>\n",
              "      <td>0</td>\n",
              "    </tr>\n",
              "  </tbody>\n",
              "</table>\n",
              "</div>\n",
              "    <div class=\"colab-df-buttons\">\n",
              "\n",
              "  <div class=\"colab-df-container\">\n",
              "    <button class=\"colab-df-convert\" onclick=\"convertToInteractive('df-451ee8f9-4d45-41b3-8fdd-5adfca1b6dd9')\"\n",
              "            title=\"Convert this dataframe to an interactive table.\"\n",
              "            style=\"display:none;\">\n",
              "\n",
              "  <svg xmlns=\"http://www.w3.org/2000/svg\" height=\"24px\" viewBox=\"0 -960 960 960\">\n",
              "    <path d=\"M120-120v-720h720v720H120Zm60-500h600v-160H180v160Zm220 220h160v-160H400v160Zm0 220h160v-160H400v160ZM180-400h160v-160H180v160Zm440 0h160v-160H620v160ZM180-180h160v-160H180v160Zm440 0h160v-160H620v160Z\"/>\n",
              "  </svg>\n",
              "    </button>\n",
              "\n",
              "  <style>\n",
              "    .colab-df-container {\n",
              "      display:flex;\n",
              "      gap: 12px;\n",
              "    }\n",
              "\n",
              "    .colab-df-convert {\n",
              "      background-color: #E8F0FE;\n",
              "      border: none;\n",
              "      border-radius: 50%;\n",
              "      cursor: pointer;\n",
              "      display: none;\n",
              "      fill: #1967D2;\n",
              "      height: 32px;\n",
              "      padding: 0 0 0 0;\n",
              "      width: 32px;\n",
              "    }\n",
              "\n",
              "    .colab-df-convert:hover {\n",
              "      background-color: #E2EBFA;\n",
              "      box-shadow: 0px 1px 2px rgba(60, 64, 67, 0.3), 0px 1px 3px 1px rgba(60, 64, 67, 0.15);\n",
              "      fill: #174EA6;\n",
              "    }\n",
              "\n",
              "    .colab-df-buttons div {\n",
              "      margin-bottom: 4px;\n",
              "    }\n",
              "\n",
              "    [theme=dark] .colab-df-convert {\n",
              "      background-color: #3B4455;\n",
              "      fill: #D2E3FC;\n",
              "    }\n",
              "\n",
              "    [theme=dark] .colab-df-convert:hover {\n",
              "      background-color: #434B5C;\n",
              "      box-shadow: 0px 1px 3px 1px rgba(0, 0, 0, 0.15);\n",
              "      filter: drop-shadow(0px 1px 2px rgba(0, 0, 0, 0.3));\n",
              "      fill: #FFFFFF;\n",
              "    }\n",
              "  </style>\n",
              "\n",
              "    <script>\n",
              "      const buttonEl =\n",
              "        document.querySelector('#df-451ee8f9-4d45-41b3-8fdd-5adfca1b6dd9 button.colab-df-convert');\n",
              "      buttonEl.style.display =\n",
              "        google.colab.kernel.accessAllowed ? 'block' : 'none';\n",
              "\n",
              "      async function convertToInteractive(key) {\n",
              "        const element = document.querySelector('#df-451ee8f9-4d45-41b3-8fdd-5adfca1b6dd9');\n",
              "        const dataTable =\n",
              "          await google.colab.kernel.invokeFunction('convertToInteractive',\n",
              "                                                    [key], {});\n",
              "        if (!dataTable) return;\n",
              "\n",
              "        const docLinkHtml = 'Like what you see? Visit the ' +\n",
              "          '<a target=\"_blank\" href=https://colab.research.google.com/notebooks/data_table.ipynb>data table notebook</a>'\n",
              "          + ' to learn more about interactive tables.';\n",
              "        element.innerHTML = '';\n",
              "        dataTable['output_type'] = 'display_data';\n",
              "        await google.colab.output.renderOutput(dataTable, element);\n",
              "        const docLink = document.createElement('div');\n",
              "        docLink.innerHTML = docLinkHtml;\n",
              "        element.appendChild(docLink);\n",
              "      }\n",
              "    </script>\n",
              "  </div>\n",
              "\n",
              "\n",
              "<div id=\"df-eab87fd2-1bb3-4382-872f-9d88a95066b0\">\n",
              "  <button class=\"colab-df-quickchart\" onclick=\"quickchart('df-eab87fd2-1bb3-4382-872f-9d88a95066b0')\"\n",
              "            title=\"Suggest charts\"\n",
              "            style=\"display:none;\">\n",
              "\n",
              "<svg xmlns=\"http://www.w3.org/2000/svg\" height=\"24px\"viewBox=\"0 0 24 24\"\n",
              "     width=\"24px\">\n",
              "    <g>\n",
              "        <path d=\"M19 3H5c-1.1 0-2 .9-2 2v14c0 1.1.9 2 2 2h14c1.1 0 2-.9 2-2V5c0-1.1-.9-2-2-2zM9 17H7v-7h2v7zm4 0h-2V7h2v10zm4 0h-2v-4h2v4z\"/>\n",
              "    </g>\n",
              "</svg>\n",
              "  </button>\n",
              "\n",
              "<style>\n",
              "  .colab-df-quickchart {\n",
              "      --bg-color: #E8F0FE;\n",
              "      --fill-color: #1967D2;\n",
              "      --hover-bg-color: #E2EBFA;\n",
              "      --hover-fill-color: #174EA6;\n",
              "      --disabled-fill-color: #AAA;\n",
              "      --disabled-bg-color: #DDD;\n",
              "  }\n",
              "\n",
              "  [theme=dark] .colab-df-quickchart {\n",
              "      --bg-color: #3B4455;\n",
              "      --fill-color: #D2E3FC;\n",
              "      --hover-bg-color: #434B5C;\n",
              "      --hover-fill-color: #FFFFFF;\n",
              "      --disabled-bg-color: #3B4455;\n",
              "      --disabled-fill-color: #666;\n",
              "  }\n",
              "\n",
              "  .colab-df-quickchart {\n",
              "    background-color: var(--bg-color);\n",
              "    border: none;\n",
              "    border-radius: 50%;\n",
              "    cursor: pointer;\n",
              "    display: none;\n",
              "    fill: var(--fill-color);\n",
              "    height: 32px;\n",
              "    padding: 0;\n",
              "    width: 32px;\n",
              "  }\n",
              "\n",
              "  .colab-df-quickchart:hover {\n",
              "    background-color: var(--hover-bg-color);\n",
              "    box-shadow: 0 1px 2px rgba(60, 64, 67, 0.3), 0 1px 3px 1px rgba(60, 64, 67, 0.15);\n",
              "    fill: var(--button-hover-fill-color);\n",
              "  }\n",
              "\n",
              "  .colab-df-quickchart-complete:disabled,\n",
              "  .colab-df-quickchart-complete:disabled:hover {\n",
              "    background-color: var(--disabled-bg-color);\n",
              "    fill: var(--disabled-fill-color);\n",
              "    box-shadow: none;\n",
              "  }\n",
              "\n",
              "  .colab-df-spinner {\n",
              "    border: 2px solid var(--fill-color);\n",
              "    border-color: transparent;\n",
              "    border-bottom-color: var(--fill-color);\n",
              "    animation:\n",
              "      spin 1s steps(1) infinite;\n",
              "  }\n",
              "\n",
              "  @keyframes spin {\n",
              "    0% {\n",
              "      border-color: transparent;\n",
              "      border-bottom-color: var(--fill-color);\n",
              "      border-left-color: var(--fill-color);\n",
              "    }\n",
              "    20% {\n",
              "      border-color: transparent;\n",
              "      border-left-color: var(--fill-color);\n",
              "      border-top-color: var(--fill-color);\n",
              "    }\n",
              "    30% {\n",
              "      border-color: transparent;\n",
              "      border-left-color: var(--fill-color);\n",
              "      border-top-color: var(--fill-color);\n",
              "      border-right-color: var(--fill-color);\n",
              "    }\n",
              "    40% {\n",
              "      border-color: transparent;\n",
              "      border-right-color: var(--fill-color);\n",
              "      border-top-color: var(--fill-color);\n",
              "    }\n",
              "    60% {\n",
              "      border-color: transparent;\n",
              "      border-right-color: var(--fill-color);\n",
              "    }\n",
              "    80% {\n",
              "      border-color: transparent;\n",
              "      border-right-color: var(--fill-color);\n",
              "      border-bottom-color: var(--fill-color);\n",
              "    }\n",
              "    90% {\n",
              "      border-color: transparent;\n",
              "      border-bottom-color: var(--fill-color);\n",
              "    }\n",
              "  }\n",
              "</style>\n",
              "\n",
              "  <script>\n",
              "    async function quickchart(key) {\n",
              "      const quickchartButtonEl =\n",
              "        document.querySelector('#' + key + ' button');\n",
              "      quickchartButtonEl.disabled = true;  // To prevent multiple clicks.\n",
              "      quickchartButtonEl.classList.add('colab-df-spinner');\n",
              "      try {\n",
              "        const charts = await google.colab.kernel.invokeFunction(\n",
              "            'suggestCharts', [key], {});\n",
              "      } catch (error) {\n",
              "        console.error('Error during call to suggestCharts:', error);\n",
              "      }\n",
              "      quickchartButtonEl.classList.remove('colab-df-spinner');\n",
              "      quickchartButtonEl.classList.add('colab-df-quickchart-complete');\n",
              "    }\n",
              "    (() => {\n",
              "      let quickchartButtonEl =\n",
              "        document.querySelector('#df-eab87fd2-1bb3-4382-872f-9d88a95066b0 button');\n",
              "      quickchartButtonEl.style.display =\n",
              "        google.colab.kernel.accessAllowed ? 'block' : 'none';\n",
              "    })();\n",
              "  </script>\n",
              "</div>\n",
              "    </div>\n",
              "  </div>\n"
            ]
          },
          "metadata": {},
          "execution_count": 6
        }
      ]
    },
    {
      "cell_type": "code",
      "source": [
        "species_name = le.classes_\n",
        "print(species_name)"
      ],
      "metadata": {
        "colab": {
          "base_uri": "https://localhost:8080/"
        },
        "id": "rxdKX-ScSZuA",
        "outputId": "5d8b024d-c000-4850-8f26-ce7076d160a7"
      },
      "execution_count": 7,
      "outputs": [
        {
          "output_type": "stream",
          "name": "stdout",
          "text": [
            "['Iris-setosa' 'Iris-versicolor' 'Iris-virginica']\n"
          ]
        }
      ]
    },
    {
      "cell_type": "code",
      "source": [
        "X = df.drop(columns=['Id', 'Species'])\n",
        "y = df['Species']\n",
        "X.head(3)"
      ],
      "metadata": {
        "colab": {
          "base_uri": "https://localhost:8080/",
          "height": 143
        },
        "id": "H5PK4fl9Scqy",
        "outputId": "1304ae2c-ddb6-4e85-94af-674f655fdfa9"
      },
      "execution_count": 8,
      "outputs": [
        {
          "output_type": "execute_result",
          "data": {
            "text/plain": [
              "   SepalLengthCm  SepalWidthCm  PetalLengthCm  PetalWidthCm\n",
              "0            5.1           3.5            1.4           0.2\n",
              "1            4.9           3.0            1.4           0.2\n",
              "2            4.7           3.2            1.3           0.2"
            ],
            "text/html": [
              "\n",
              "  <div id=\"df-28899c07-ec41-4830-ba4f-59eb583814d2\" class=\"colab-df-container\">\n",
              "    <div>\n",
              "<style scoped>\n",
              "    .dataframe tbody tr th:only-of-type {\n",
              "        vertical-align: middle;\n",
              "    }\n",
              "\n",
              "    .dataframe tbody tr th {\n",
              "        vertical-align: top;\n",
              "    }\n",
              "\n",
              "    .dataframe thead th {\n",
              "        text-align: right;\n",
              "    }\n",
              "</style>\n",
              "<table border=\"1\" class=\"dataframe\">\n",
              "  <thead>\n",
              "    <tr style=\"text-align: right;\">\n",
              "      <th></th>\n",
              "      <th>SepalLengthCm</th>\n",
              "      <th>SepalWidthCm</th>\n",
              "      <th>PetalLengthCm</th>\n",
              "      <th>PetalWidthCm</th>\n",
              "    </tr>\n",
              "  </thead>\n",
              "  <tbody>\n",
              "    <tr>\n",
              "      <th>0</th>\n",
              "      <td>5.1</td>\n",
              "      <td>3.5</td>\n",
              "      <td>1.4</td>\n",
              "      <td>0.2</td>\n",
              "    </tr>\n",
              "    <tr>\n",
              "      <th>1</th>\n",
              "      <td>4.9</td>\n",
              "      <td>3.0</td>\n",
              "      <td>1.4</td>\n",
              "      <td>0.2</td>\n",
              "    </tr>\n",
              "    <tr>\n",
              "      <th>2</th>\n",
              "      <td>4.7</td>\n",
              "      <td>3.2</td>\n",
              "      <td>1.3</td>\n",
              "      <td>0.2</td>\n",
              "    </tr>\n",
              "  </tbody>\n",
              "</table>\n",
              "</div>\n",
              "    <div class=\"colab-df-buttons\">\n",
              "\n",
              "  <div class=\"colab-df-container\">\n",
              "    <button class=\"colab-df-convert\" onclick=\"convertToInteractive('df-28899c07-ec41-4830-ba4f-59eb583814d2')\"\n",
              "            title=\"Convert this dataframe to an interactive table.\"\n",
              "            style=\"display:none;\">\n",
              "\n",
              "  <svg xmlns=\"http://www.w3.org/2000/svg\" height=\"24px\" viewBox=\"0 -960 960 960\">\n",
              "    <path d=\"M120-120v-720h720v720H120Zm60-500h600v-160H180v160Zm220 220h160v-160H400v160Zm0 220h160v-160H400v160ZM180-400h160v-160H180v160Zm440 0h160v-160H620v160ZM180-180h160v-160H180v160Zm440 0h160v-160H620v160Z\"/>\n",
              "  </svg>\n",
              "    </button>\n",
              "\n",
              "  <style>\n",
              "    .colab-df-container {\n",
              "      display:flex;\n",
              "      gap: 12px;\n",
              "    }\n",
              "\n",
              "    .colab-df-convert {\n",
              "      background-color: #E8F0FE;\n",
              "      border: none;\n",
              "      border-radius: 50%;\n",
              "      cursor: pointer;\n",
              "      display: none;\n",
              "      fill: #1967D2;\n",
              "      height: 32px;\n",
              "      padding: 0 0 0 0;\n",
              "      width: 32px;\n",
              "    }\n",
              "\n",
              "    .colab-df-convert:hover {\n",
              "      background-color: #E2EBFA;\n",
              "      box-shadow: 0px 1px 2px rgba(60, 64, 67, 0.3), 0px 1px 3px 1px rgba(60, 64, 67, 0.15);\n",
              "      fill: #174EA6;\n",
              "    }\n",
              "\n",
              "    .colab-df-buttons div {\n",
              "      margin-bottom: 4px;\n",
              "    }\n",
              "\n",
              "    [theme=dark] .colab-df-convert {\n",
              "      background-color: #3B4455;\n",
              "      fill: #D2E3FC;\n",
              "    }\n",
              "\n",
              "    [theme=dark] .colab-df-convert:hover {\n",
              "      background-color: #434B5C;\n",
              "      box-shadow: 0px 1px 3px 1px rgba(0, 0, 0, 0.15);\n",
              "      filter: drop-shadow(0px 1px 2px rgba(0, 0, 0, 0.3));\n",
              "      fill: #FFFFFF;\n",
              "    }\n",
              "  </style>\n",
              "\n",
              "    <script>\n",
              "      const buttonEl =\n",
              "        document.querySelector('#df-28899c07-ec41-4830-ba4f-59eb583814d2 button.colab-df-convert');\n",
              "      buttonEl.style.display =\n",
              "        google.colab.kernel.accessAllowed ? 'block' : 'none';\n",
              "\n",
              "      async function convertToInteractive(key) {\n",
              "        const element = document.querySelector('#df-28899c07-ec41-4830-ba4f-59eb583814d2');\n",
              "        const dataTable =\n",
              "          await google.colab.kernel.invokeFunction('convertToInteractive',\n",
              "                                                    [key], {});\n",
              "        if (!dataTable) return;\n",
              "\n",
              "        const docLinkHtml = 'Like what you see? Visit the ' +\n",
              "          '<a target=\"_blank\" href=https://colab.research.google.com/notebooks/data_table.ipynb>data table notebook</a>'\n",
              "          + ' to learn more about interactive tables.';\n",
              "        element.innerHTML = '';\n",
              "        dataTable['output_type'] = 'display_data';\n",
              "        await google.colab.output.renderOutput(dataTable, element);\n",
              "        const docLink = document.createElement('div');\n",
              "        docLink.innerHTML = docLinkHtml;\n",
              "        element.appendChild(docLink);\n",
              "      }\n",
              "    </script>\n",
              "  </div>\n",
              "\n",
              "\n",
              "<div id=\"df-cd8530b2-6ec8-4649-9ec9-5708780842a9\">\n",
              "  <button class=\"colab-df-quickchart\" onclick=\"quickchart('df-cd8530b2-6ec8-4649-9ec9-5708780842a9')\"\n",
              "            title=\"Suggest charts\"\n",
              "            style=\"display:none;\">\n",
              "\n",
              "<svg xmlns=\"http://www.w3.org/2000/svg\" height=\"24px\"viewBox=\"0 0 24 24\"\n",
              "     width=\"24px\">\n",
              "    <g>\n",
              "        <path d=\"M19 3H5c-1.1 0-2 .9-2 2v14c0 1.1.9 2 2 2h14c1.1 0 2-.9 2-2V5c0-1.1-.9-2-2-2zM9 17H7v-7h2v7zm4 0h-2V7h2v10zm4 0h-2v-4h2v4z\"/>\n",
              "    </g>\n",
              "</svg>\n",
              "  </button>\n",
              "\n",
              "<style>\n",
              "  .colab-df-quickchart {\n",
              "      --bg-color: #E8F0FE;\n",
              "      --fill-color: #1967D2;\n",
              "      --hover-bg-color: #E2EBFA;\n",
              "      --hover-fill-color: #174EA6;\n",
              "      --disabled-fill-color: #AAA;\n",
              "      --disabled-bg-color: #DDD;\n",
              "  }\n",
              "\n",
              "  [theme=dark] .colab-df-quickchart {\n",
              "      --bg-color: #3B4455;\n",
              "      --fill-color: #D2E3FC;\n",
              "      --hover-bg-color: #434B5C;\n",
              "      --hover-fill-color: #FFFFFF;\n",
              "      --disabled-bg-color: #3B4455;\n",
              "      --disabled-fill-color: #666;\n",
              "  }\n",
              "\n",
              "  .colab-df-quickchart {\n",
              "    background-color: var(--bg-color);\n",
              "    border: none;\n",
              "    border-radius: 50%;\n",
              "    cursor: pointer;\n",
              "    display: none;\n",
              "    fill: var(--fill-color);\n",
              "    height: 32px;\n",
              "    padding: 0;\n",
              "    width: 32px;\n",
              "  }\n",
              "\n",
              "  .colab-df-quickchart:hover {\n",
              "    background-color: var(--hover-bg-color);\n",
              "    box-shadow: 0 1px 2px rgba(60, 64, 67, 0.3), 0 1px 3px 1px rgba(60, 64, 67, 0.15);\n",
              "    fill: var(--button-hover-fill-color);\n",
              "  }\n",
              "\n",
              "  .colab-df-quickchart-complete:disabled,\n",
              "  .colab-df-quickchart-complete:disabled:hover {\n",
              "    background-color: var(--disabled-bg-color);\n",
              "    fill: var(--disabled-fill-color);\n",
              "    box-shadow: none;\n",
              "  }\n",
              "\n",
              "  .colab-df-spinner {\n",
              "    border: 2px solid var(--fill-color);\n",
              "    border-color: transparent;\n",
              "    border-bottom-color: var(--fill-color);\n",
              "    animation:\n",
              "      spin 1s steps(1) infinite;\n",
              "  }\n",
              "\n",
              "  @keyframes spin {\n",
              "    0% {\n",
              "      border-color: transparent;\n",
              "      border-bottom-color: var(--fill-color);\n",
              "      border-left-color: var(--fill-color);\n",
              "    }\n",
              "    20% {\n",
              "      border-color: transparent;\n",
              "      border-left-color: var(--fill-color);\n",
              "      border-top-color: var(--fill-color);\n",
              "    }\n",
              "    30% {\n",
              "      border-color: transparent;\n",
              "      border-left-color: var(--fill-color);\n",
              "      border-top-color: var(--fill-color);\n",
              "      border-right-color: var(--fill-color);\n",
              "    }\n",
              "    40% {\n",
              "      border-color: transparent;\n",
              "      border-right-color: var(--fill-color);\n",
              "      border-top-color: var(--fill-color);\n",
              "    }\n",
              "    60% {\n",
              "      border-color: transparent;\n",
              "      border-right-color: var(--fill-color);\n",
              "    }\n",
              "    80% {\n",
              "      border-color: transparent;\n",
              "      border-right-color: var(--fill-color);\n",
              "      border-bottom-color: var(--fill-color);\n",
              "    }\n",
              "    90% {\n",
              "      border-color: transparent;\n",
              "      border-bottom-color: var(--fill-color);\n",
              "    }\n",
              "  }\n",
              "</style>\n",
              "\n",
              "  <script>\n",
              "    async function quickchart(key) {\n",
              "      const quickchartButtonEl =\n",
              "        document.querySelector('#' + key + ' button');\n",
              "      quickchartButtonEl.disabled = true;  // To prevent multiple clicks.\n",
              "      quickchartButtonEl.classList.add('colab-df-spinner');\n",
              "      try {\n",
              "        const charts = await google.colab.kernel.invokeFunction(\n",
              "            'suggestCharts', [key], {});\n",
              "      } catch (error) {\n",
              "        console.error('Error during call to suggestCharts:', error);\n",
              "      }\n",
              "      quickchartButtonEl.classList.remove('colab-df-spinner');\n",
              "      quickchartButtonEl.classList.add('colab-df-quickchart-complete');\n",
              "    }\n",
              "    (() => {\n",
              "      let quickchartButtonEl =\n",
              "        document.querySelector('#df-cd8530b2-6ec8-4649-9ec9-5708780842a9 button');\n",
              "      quickchartButtonEl.style.display =\n",
              "        google.colab.kernel.accessAllowed ? 'block' : 'none';\n",
              "    })();\n",
              "  </script>\n",
              "</div>\n",
              "    </div>\n",
              "  </div>\n"
            ]
          },
          "metadata": {},
          "execution_count": 8
        }
      ]
    },
    {
      "cell_type": "code",
      "source": [
        "print(y[:5])"
      ],
      "metadata": {
        "colab": {
          "base_uri": "https://localhost:8080/"
        },
        "id": "mC7aJiPYSibh",
        "outputId": "f20c0819-6366-488e-befe-64630f339b85"
      },
      "execution_count": 9,
      "outputs": [
        {
          "output_type": "stream",
          "name": "stdout",
          "text": [
            "0    0\n",
            "1    0\n",
            "2    0\n",
            "3    0\n",
            "4    0\n",
            "Name: Species, dtype: int64\n"
          ]
        }
      ]
    },
    {
      "cell_type": "code",
      "source": [
        "from sklearn.model_selection import train_test_split\n",
        "x_train, x_test, y_train, y_test = train_test_split(X, y, test_size=0.3, shuffle=True, random_state=69)"
      ],
      "metadata": {
        "id": "wybB-3v4Sm28"
      },
      "execution_count": 10,
      "outputs": []
    },
    {
      "cell_type": "code",
      "source": [
        "x_train.shape"
      ],
      "metadata": {
        "colab": {
          "base_uri": "https://localhost:8080/"
        },
        "id": "sL356fDtSrLc",
        "outputId": "c6ce14c8-321e-4030-b8e2-957bb857ccc0"
      },
      "execution_count": 11,
      "outputs": [
        {
          "output_type": "execute_result",
          "data": {
            "text/plain": [
              "(105, 4)"
            ]
          },
          "metadata": {},
          "execution_count": 11
        }
      ]
    },
    {
      "cell_type": "code",
      "source": [
        "from sklearn.preprocessing import StandardScaler\n",
        "sc = StandardScaler()\n",
        "print(x_train[:1])\n",
        "x_train = sc.fit_transform(x_train)\n",
        "x_test = sc.transform(x_test)\n",
        "print(x_train[:1])\n",
        ""
      ],
      "metadata": {
        "colab": {
          "base_uri": "https://localhost:8080/"
        },
        "id": "xUI9k1ObSssQ",
        "outputId": "09445da0-8509-49cc-fd91-3b51220a60ba"
      },
      "execution_count": 12,
      "outputs": [
        {
          "output_type": "stream",
          "name": "stdout",
          "text": [
            "    SepalLengthCm  SepalWidthCm  PetalLengthCm  PetalWidthCm\n",
            "57            4.9           2.4            3.3           1.0\n",
            "[[-1.14630942 -1.44374444 -0.25650655 -0.258263  ]]\n"
          ]
        }
      ]
    },
    {
      "cell_type": "code",
      "source": [
        "y_train = keras.utils.to_categorical(y_train, num_classes=3)\n",
        "print(y_train[:5])"
      ],
      "metadata": {
        "colab": {
          "base_uri": "https://localhost:8080/"
        },
        "id": "H3pPWxe7SvaO",
        "outputId": "2ab982d6-e581-4d58-8088-1b5a01486caf"
      },
      "execution_count": 13,
      "outputs": [
        {
          "output_type": "stream",
          "name": "stdout",
          "text": [
            "[[0. 1. 0.]\n",
            " [0. 0. 1.]\n",
            " [0. 1. 0.]\n",
            " [0. 1. 0.]\n",
            " [0. 1. 0.]]\n"
          ]
        }
      ]
    },
    {
      "cell_type": "code",
      "source": [
        "from keras.models import Sequential\n",
        "from keras.layers import Dense, Dropout"
      ],
      "metadata": {
        "id": "it2xr9WGSzt6"
      },
      "execution_count": 14,
      "outputs": []
    },
    {
      "cell_type": "code",
      "source": [
        "model = Sequential()\n",
        "model.add(Dense(units=32, activation='relu', input_shape=(x_train.shape[-1], )))\n",
        "model.add(Dense(units=32, activation='relu'))\n",
        "model.add(Dropout(0.5))\n",
        "model.add(Dense(units=3, activation='softmax'))"
      ],
      "metadata": {
        "id": "4zm5KBcSS2gp"
      },
      "execution_count": 15,
      "outputs": []
    },
    {
      "cell_type": "code",
      "source": [
        "model.compile(optimizer='Adam', loss='categorical_crossentropy', metrics=['accuracy'])\n",
        "model.summary()"
      ],
      "metadata": {
        "colab": {
          "base_uri": "https://localhost:8080/"
        },
        "id": "qmDocX2PS4k8",
        "outputId": "0e0da77b-ac46-4c24-f62b-08142ab0c870"
      },
      "execution_count": 16,
      "outputs": [
        {
          "output_type": "stream",
          "name": "stdout",
          "text": [
            "Model: \"sequential\"\n",
            "_________________________________________________________________\n",
            " Layer (type)                Output Shape              Param #   \n",
            "=================================================================\n",
            " dense (Dense)               (None, 32)                160       \n",
            "                                                                 \n",
            " dense_1 (Dense)             (None, 32)                1056      \n",
            "                                                                 \n",
            " dropout (Dropout)           (None, 32)                0         \n",
            "                                                                 \n",
            " dense_2 (Dense)             (None, 3)                 99        \n",
            "                                                                 \n",
            "=================================================================\n",
            "Total params: 1315 (5.14 KB)\n",
            "Trainable params: 1315 (5.14 KB)\n",
            "Non-trainable params: 0 (0.00 Byte)\n",
            "_________________________________________________________________\n"
          ]
        }
      ]
    },
    {
      "cell_type": "code",
      "source": [
        "model.fit(x_train, y_train, epochs=100, verbose=2)"
      ],
      "metadata": {
        "colab": {
          "base_uri": "https://localhost:8080/"
        },
        "id": "8MgDyFhQS4hj",
        "outputId": "fd27e366-899d-497c-82c9-cfba28e35408"
      },
      "execution_count": 17,
      "outputs": [
        {
          "output_type": "stream",
          "name": "stdout",
          "text": [
            "Epoch 1/100\n",
            "4/4 - 1s - loss: 1.2258 - accuracy: 0.2190 - 904ms/epoch - 226ms/step\n",
            "Epoch 2/100\n",
            "4/4 - 0s - loss: 1.1396 - accuracy: 0.2571 - 14ms/epoch - 3ms/step\n",
            "Epoch 3/100\n",
            "4/4 - 0s - loss: 1.1107 - accuracy: 0.2762 - 13ms/epoch - 3ms/step\n",
            "Epoch 4/100\n",
            "4/4 - 0s - loss: 1.0247 - accuracy: 0.4095 - 12ms/epoch - 3ms/step\n",
            "Epoch 5/100\n",
            "4/4 - 0s - loss: 0.9739 - accuracy: 0.5048 - 13ms/epoch - 3ms/step\n",
            "Epoch 6/100\n",
            "4/4 - 0s - loss: 0.9508 - accuracy: 0.5333 - 12ms/epoch - 3ms/step\n",
            "Epoch 7/100\n",
            "4/4 - 0s - loss: 0.9318 - accuracy: 0.5714 - 12ms/epoch - 3ms/step\n",
            "Epoch 8/100\n",
            "4/4 - 0s - loss: 0.9157 - accuracy: 0.5619 - 15ms/epoch - 4ms/step\n",
            "Epoch 9/100\n",
            "4/4 - 0s - loss: 0.8880 - accuracy: 0.5810 - 16ms/epoch - 4ms/step\n",
            "Epoch 10/100\n",
            "4/4 - 0s - loss: 0.8420 - accuracy: 0.6381 - 12ms/epoch - 3ms/step\n",
            "Epoch 11/100\n",
            "4/4 - 0s - loss: 0.8315 - accuracy: 0.6476 - 13ms/epoch - 3ms/step\n",
            "Epoch 12/100\n",
            "4/4 - 0s - loss: 0.8062 - accuracy: 0.7524 - 12ms/epoch - 3ms/step\n",
            "Epoch 13/100\n",
            "4/4 - 0s - loss: 0.7336 - accuracy: 0.7429 - 12ms/epoch - 3ms/step\n",
            "Epoch 14/100\n",
            "4/4 - 0s - loss: 0.7508 - accuracy: 0.7333 - 12ms/epoch - 3ms/step\n",
            "Epoch 15/100\n",
            "4/4 - 0s - loss: 0.6834 - accuracy: 0.7810 - 13ms/epoch - 3ms/step\n",
            "Epoch 16/100\n",
            "4/4 - 0s - loss: 0.6867 - accuracy: 0.7524 - 16ms/epoch - 4ms/step\n",
            "Epoch 17/100\n",
            "4/4 - 0s - loss: 0.6331 - accuracy: 0.8476 - 14ms/epoch - 3ms/step\n",
            "Epoch 18/100\n",
            "4/4 - 0s - loss: 0.6263 - accuracy: 0.8190 - 13ms/epoch - 3ms/step\n",
            "Epoch 19/100\n",
            "4/4 - 0s - loss: 0.6302 - accuracy: 0.7905 - 12ms/epoch - 3ms/step\n",
            "Epoch 20/100\n",
            "4/4 - 0s - loss: 0.5925 - accuracy: 0.8190 - 22ms/epoch - 5ms/step\n",
            "Epoch 21/100\n",
            "4/4 - 0s - loss: 0.5571 - accuracy: 0.8476 - 13ms/epoch - 3ms/step\n",
            "Epoch 22/100\n",
            "4/4 - 0s - loss: 0.5294 - accuracy: 0.8476 - 13ms/epoch - 3ms/step\n",
            "Epoch 23/100\n",
            "4/4 - 0s - loss: 0.5642 - accuracy: 0.8381 - 13ms/epoch - 3ms/step\n",
            "Epoch 24/100\n",
            "4/4 - 0s - loss: 0.5395 - accuracy: 0.8667 - 13ms/epoch - 3ms/step\n",
            "Epoch 25/100\n",
            "4/4 - 0s - loss: 0.5360 - accuracy: 0.8381 - 13ms/epoch - 3ms/step\n",
            "Epoch 26/100\n",
            "4/4 - 0s - loss: 0.5000 - accuracy: 0.8286 - 13ms/epoch - 3ms/step\n",
            "Epoch 27/100\n",
            "4/4 - 0s - loss: 0.4821 - accuracy: 0.8762 - 12ms/epoch - 3ms/step\n",
            "Epoch 28/100\n",
            "4/4 - 0s - loss: 0.4759 - accuracy: 0.8571 - 12ms/epoch - 3ms/step\n",
            "Epoch 29/100\n",
            "4/4 - 0s - loss: 0.4845 - accuracy: 0.8190 - 15ms/epoch - 4ms/step\n",
            "Epoch 30/100\n",
            "4/4 - 0s - loss: 0.5188 - accuracy: 0.8000 - 26ms/epoch - 7ms/step\n",
            "Epoch 31/100\n",
            "4/4 - 0s - loss: 0.4898 - accuracy: 0.8000 - 17ms/epoch - 4ms/step\n",
            "Epoch 32/100\n",
            "4/4 - 0s - loss: 0.4573 - accuracy: 0.7714 - 12ms/epoch - 3ms/step\n",
            "Epoch 33/100\n",
            "4/4 - 0s - loss: 0.4225 - accuracy: 0.8476 - 13ms/epoch - 3ms/step\n",
            "Epoch 34/100\n",
            "4/4 - 0s - loss: 0.4418 - accuracy: 0.8286 - 12ms/epoch - 3ms/step\n",
            "Epoch 35/100\n",
            "4/4 - 0s - loss: 0.4116 - accuracy: 0.8762 - 12ms/epoch - 3ms/step\n",
            "Epoch 36/100\n",
            "4/4 - 0s - loss: 0.4089 - accuracy: 0.8762 - 13ms/epoch - 3ms/step\n",
            "Epoch 37/100\n",
            "4/4 - 0s - loss: 0.4142 - accuracy: 0.8286 - 13ms/epoch - 3ms/step\n",
            "Epoch 38/100\n",
            "4/4 - 0s - loss: 0.4108 - accuracy: 0.8667 - 15ms/epoch - 4ms/step\n",
            "Epoch 39/100\n",
            "4/4 - 0s - loss: 0.4094 - accuracy: 0.8381 - 13ms/epoch - 3ms/step\n",
            "Epoch 40/100\n",
            "4/4 - 0s - loss: 0.3788 - accuracy: 0.8571 - 13ms/epoch - 3ms/step\n",
            "Epoch 41/100\n",
            "4/4 - 0s - loss: 0.3431 - accuracy: 0.8952 - 16ms/epoch - 4ms/step\n",
            "Epoch 42/100\n",
            "4/4 - 0s - loss: 0.3962 - accuracy: 0.8381 - 14ms/epoch - 3ms/step\n",
            "Epoch 43/100\n",
            "4/4 - 0s - loss: 0.3912 - accuracy: 0.8476 - 15ms/epoch - 4ms/step\n",
            "Epoch 44/100\n",
            "4/4 - 0s - loss: 0.3794 - accuracy: 0.8857 - 14ms/epoch - 3ms/step\n",
            "Epoch 45/100\n",
            "4/4 - 0s - loss: 0.3914 - accuracy: 0.8381 - 15ms/epoch - 4ms/step\n",
            "Epoch 46/100\n",
            "4/4 - 0s - loss: 0.3700 - accuracy: 0.8667 - 14ms/epoch - 3ms/step\n",
            "Epoch 47/100\n",
            "4/4 - 0s - loss: 0.3203 - accuracy: 0.8952 - 15ms/epoch - 4ms/step\n",
            "Epoch 48/100\n",
            "4/4 - 0s - loss: 0.3590 - accuracy: 0.8667 - 15ms/epoch - 4ms/step\n",
            "Epoch 49/100\n",
            "4/4 - 0s - loss: 0.3413 - accuracy: 0.8762 - 13ms/epoch - 3ms/step\n",
            "Epoch 50/100\n",
            "4/4 - 0s - loss: 0.3615 - accuracy: 0.8571 - 12ms/epoch - 3ms/step\n",
            "Epoch 51/100\n",
            "4/4 - 0s - loss: 0.3462 - accuracy: 0.8762 - 14ms/epoch - 3ms/step\n",
            "Epoch 52/100\n",
            "4/4 - 0s - loss: 0.3418 - accuracy: 0.8667 - 13ms/epoch - 3ms/step\n",
            "Epoch 53/100\n",
            "4/4 - 0s - loss: 0.2640 - accuracy: 0.9048 - 12ms/epoch - 3ms/step\n",
            "Epoch 54/100\n",
            "4/4 - 0s - loss: 0.3068 - accuracy: 0.9048 - 12ms/epoch - 3ms/step\n",
            "Epoch 55/100\n",
            "4/4 - 0s - loss: 0.3625 - accuracy: 0.8476 - 13ms/epoch - 3ms/step\n",
            "Epoch 56/100\n",
            "4/4 - 0s - loss: 0.3003 - accuracy: 0.8762 - 16ms/epoch - 4ms/step\n",
            "Epoch 57/100\n",
            "4/4 - 0s - loss: 0.3470 - accuracy: 0.8476 - 14ms/epoch - 4ms/step\n",
            "Epoch 58/100\n",
            "4/4 - 0s - loss: 0.3009 - accuracy: 0.9143 - 12ms/epoch - 3ms/step\n",
            "Epoch 59/100\n",
            "4/4 - 0s - loss: 0.3194 - accuracy: 0.8762 - 12ms/epoch - 3ms/step\n",
            "Epoch 60/100\n",
            "4/4 - 0s - loss: 0.3271 - accuracy: 0.9143 - 15ms/epoch - 4ms/step\n",
            "Epoch 61/100\n",
            "4/4 - 0s - loss: 0.3304 - accuracy: 0.8762 - 12ms/epoch - 3ms/step\n",
            "Epoch 62/100\n",
            "4/4 - 0s - loss: 0.2914 - accuracy: 0.8762 - 12ms/epoch - 3ms/step\n",
            "Epoch 63/100\n",
            "4/4 - 0s - loss: 0.3096 - accuracy: 0.8762 - 13ms/epoch - 3ms/step\n",
            "Epoch 64/100\n",
            "4/4 - 0s - loss: 0.3022 - accuracy: 0.8857 - 14ms/epoch - 4ms/step\n",
            "Epoch 65/100\n",
            "4/4 - 0s - loss: 0.2609 - accuracy: 0.9143 - 14ms/epoch - 3ms/step\n",
            "Epoch 66/100\n",
            "4/4 - 0s - loss: 0.2718 - accuracy: 0.9238 - 13ms/epoch - 3ms/step\n",
            "Epoch 67/100\n",
            "4/4 - 0s - loss: 0.2951 - accuracy: 0.8952 - 12ms/epoch - 3ms/step\n",
            "Epoch 68/100\n",
            "4/4 - 0s - loss: 0.2747 - accuracy: 0.8952 - 12ms/epoch - 3ms/step\n",
            "Epoch 69/100\n",
            "4/4 - 0s - loss: 0.2584 - accuracy: 0.9048 - 12ms/epoch - 3ms/step\n",
            "Epoch 70/100\n",
            "4/4 - 0s - loss: 0.2874 - accuracy: 0.8952 - 14ms/epoch - 3ms/step\n",
            "Epoch 71/100\n",
            "4/4 - 0s - loss: 0.2549 - accuracy: 0.9048 - 13ms/epoch - 3ms/step\n",
            "Epoch 72/100\n",
            "4/4 - 0s - loss: 0.2750 - accuracy: 0.9048 - 13ms/epoch - 3ms/step\n",
            "Epoch 73/100\n",
            "4/4 - 0s - loss: 0.2504 - accuracy: 0.9238 - 13ms/epoch - 3ms/step\n",
            "Epoch 74/100\n",
            "4/4 - 0s - loss: 0.2495 - accuracy: 0.8952 - 13ms/epoch - 3ms/step\n",
            "Epoch 75/100\n",
            "4/4 - 0s - loss: 0.2049 - accuracy: 0.9333 - 14ms/epoch - 3ms/step\n",
            "Epoch 76/100\n",
            "4/4 - 0s - loss: 0.2833 - accuracy: 0.8762 - 13ms/epoch - 3ms/step\n",
            "Epoch 77/100\n",
            "4/4 - 0s - loss: 0.2103 - accuracy: 0.9714 - 12ms/epoch - 3ms/step\n",
            "Epoch 78/100\n",
            "4/4 - 0s - loss: 0.2853 - accuracy: 0.8667 - 14ms/epoch - 4ms/step\n",
            "Epoch 79/100\n",
            "4/4 - 0s - loss: 0.2651 - accuracy: 0.9238 - 12ms/epoch - 3ms/step\n",
            "Epoch 80/100\n",
            "4/4 - 0s - loss: 0.2429 - accuracy: 0.8952 - 12ms/epoch - 3ms/step\n",
            "Epoch 81/100\n",
            "4/4 - 0s - loss: 0.2276 - accuracy: 0.9429 - 12ms/epoch - 3ms/step\n",
            "Epoch 82/100\n",
            "4/4 - 0s - loss: 0.2128 - accuracy: 0.9333 - 12ms/epoch - 3ms/step\n",
            "Epoch 83/100\n",
            "4/4 - 0s - loss: 0.2156 - accuracy: 0.9238 - 12ms/epoch - 3ms/step\n",
            "Epoch 84/100\n",
            "4/4 - 0s - loss: 0.2190 - accuracy: 0.9238 - 15ms/epoch - 4ms/step\n",
            "Epoch 85/100\n",
            "4/4 - 0s - loss: 0.2196 - accuracy: 0.9333 - 17ms/epoch - 4ms/step\n",
            "Epoch 86/100\n",
            "4/4 - 0s - loss: 0.2605 - accuracy: 0.9238 - 12ms/epoch - 3ms/step\n",
            "Epoch 87/100\n",
            "4/4 - 0s - loss: 0.2173 - accuracy: 0.9619 - 13ms/epoch - 3ms/step\n",
            "Epoch 88/100\n",
            "4/4 - 0s - loss: 0.2009 - accuracy: 0.9429 - 12ms/epoch - 3ms/step\n",
            "Epoch 89/100\n",
            "4/4 - 0s - loss: 0.2162 - accuracy: 0.9238 - 13ms/epoch - 3ms/step\n",
            "Epoch 90/100\n",
            "4/4 - 0s - loss: 0.1907 - accuracy: 0.9524 - 14ms/epoch - 4ms/step\n",
            "Epoch 91/100\n",
            "4/4 - 0s - loss: 0.2239 - accuracy: 0.9524 - 13ms/epoch - 3ms/step\n",
            "Epoch 92/100\n",
            "4/4 - 0s - loss: 0.2287 - accuracy: 0.8952 - 13ms/epoch - 3ms/step\n",
            "Epoch 93/100\n",
            "4/4 - 0s - loss: 0.1892 - accuracy: 0.9524 - 14ms/epoch - 4ms/step\n",
            "Epoch 94/100\n",
            "4/4 - 0s - loss: 0.1610 - accuracy: 0.9524 - 12ms/epoch - 3ms/step\n",
            "Epoch 95/100\n",
            "4/4 - 0s - loss: 0.1820 - accuracy: 0.9524 - 14ms/epoch - 4ms/step\n",
            "Epoch 96/100\n",
            "4/4 - 0s - loss: 0.1666 - accuracy: 0.9619 - 14ms/epoch - 4ms/step\n",
            "Epoch 97/100\n",
            "4/4 - 0s - loss: 0.1501 - accuracy: 0.9619 - 13ms/epoch - 3ms/step\n",
            "Epoch 98/100\n",
            "4/4 - 0s - loss: 0.2046 - accuracy: 0.9333 - 13ms/epoch - 3ms/step\n",
            "Epoch 99/100\n",
            "4/4 - 0s - loss: 0.1690 - accuracy: 0.9714 - 13ms/epoch - 3ms/step\n",
            "Epoch 100/100\n",
            "4/4 - 0s - loss: 0.1642 - accuracy: 0.9429 - 12ms/epoch - 3ms/step\n"
          ]
        },
        {
          "output_type": "execute_result",
          "data": {
            "text/plain": [
              "<keras.src.callbacks.History at 0x7b8d25e878e0>"
            ]
          },
          "metadata": {},
          "execution_count": 17
        }
      ]
    },
    {
      "cell_type": "code",
      "source": [
        "prediction = model.predict(x_test)\n",
        "print(prediction[:5])"
      ],
      "metadata": {
        "colab": {
          "base_uri": "https://localhost:8080/"
        },
        "id": "X9YS6FvDTF3Y",
        "outputId": "c181b348-eae9-4381-ace1-7a15ff996f1e"
      },
      "execution_count": 18,
      "outputs": [
        {
          "output_type": "stream",
          "name": "stdout",
          "text": [
            "2/2 [==============================] - 0s 5ms/step\n",
            "[[9.9956304e-01 4.3607660e-04 7.9018554e-07]\n",
            " [8.1741232e-03 9.1420817e-01 7.7617660e-02]\n",
            " [9.9829221e-01 1.7010900e-03 6.6807265e-06]\n",
            " [2.0436804e-04 2.4262832e-02 9.7553283e-01]\n",
            " [9.9824291e-01 1.7489267e-03 8.0619157e-06]]\n"
          ]
        }
      ]
    },
    {
      "cell_type": "code",
      "source": [
        "prediction = np.argmax(prediction, axis=-1)\n",
        "print(prediction[:5])"
      ],
      "metadata": {
        "colab": {
          "base_uri": "https://localhost:8080/"
        },
        "id": "AjKzr6bGTLUw",
        "outputId": "08535628-8194-4055-c7c7-f027d9860833"
      },
      "execution_count": 19,
      "outputs": [
        {
          "output_type": "stream",
          "name": "stdout",
          "text": [
            "[0 1 0 2 0]\n"
          ]
        }
      ]
    },
    {
      "cell_type": "code",
      "source": [
        "print(y_test[:5])"
      ],
      "metadata": {
        "colab": {
          "base_uri": "https://localhost:8080/"
        },
        "id": "Kl9iBay1TNmK",
        "outputId": "02fb953e-c467-45d4-b88f-e7b5da5c3944"
      },
      "execution_count": 20,
      "outputs": [
        {
          "output_type": "stream",
          "name": "stdout",
          "text": [
            "4      0\n",
            "58     1\n",
            "20     0\n",
            "114    2\n",
            "31     0\n",
            "Name: Species, dtype: int64\n"
          ]
        }
      ]
    },
    {
      "cell_type": "code",
      "source": [
        "from sklearn.metrics import accuracy_score, confusion_matrix\n",
        "print(accuracy_score(y_test, prediction))"
      ],
      "metadata": {
        "colab": {
          "base_uri": "https://localhost:8080/"
        },
        "id": "kptt6k2-TRDE",
        "outputId": "f768de4b-0023-4bae-e0e5-c92211c9a551"
      },
      "execution_count": 21,
      "outputs": [
        {
          "output_type": "stream",
          "name": "stdout",
          "text": [
            "0.9777777777777777\n"
          ]
        }
      ]
    },
    {
      "cell_type": "code",
      "source": [
        "cm = confusion_matrix(y_test, prediction)\n",
        "print(cm)"
      ],
      "metadata": {
        "colab": {
          "base_uri": "https://localhost:8080/"
        },
        "id": "QvvrEEZZTTtQ",
        "outputId": "7511bcb8-8696-4fec-9c47-f53f281714de"
      },
      "execution_count": 22,
      "outputs": [
        {
          "output_type": "stream",
          "name": "stdout",
          "text": [
            "[[16  0  0]\n",
            " [ 0 12  0]\n",
            " [ 0  1 16]]\n"
          ]
        }
      ]
    },
    {
      "cell_type": "code",
      "source": [
        "ax = sns.heatmap(cm, annot=True, fmt='d', cmap='Reds', xticklabels=species_name, yticklabels=species_name)\n",
        "ax.set_title('confusion matrix for irsis dataset prediction')\n",
        "ax.set_xlabel('prediction', fontsize=14)\n",
        "ax.set_ylabel('actual', fontsize=14)\n",
        ""
      ],
      "metadata": {
        "colab": {
          "base_uri": "https://localhost:8080/",
          "height": 495
        },
        "id": "_ANQLCGpTVZ1",
        "outputId": "9a81bce9-4bd7-4fba-f294-46b65c6f60f7"
      },
      "execution_count": 23,
      "outputs": [
        {
          "output_type": "execute_result",
          "data": {
            "text/plain": [
              "Text(50.72222222222221, 0.5, 'actual')"
            ]
          },
          "metadata": {},
          "execution_count": 23
        },
        {
          "output_type": "display_data",
          "data": {
            "text/plain": [
              "<Figure size 640x480 with 2 Axes>"
            ],
            "image/png": "[encoded data removed]"
          },
          "metadata": {}
        }
      ]
    },
    {
      "cell_type": "code",
      "source": [
        "fig = plt.figure()\n",
        "ax = fig.add_axes([0,0,1,1])\n",
        "ax.axis('equal')\n",
        "l = ['Versicolor', 'Setosa', 'Virginica']\n",
        "s = [50,50,50]\n",
        "ax.pie(s, labels = l,autopct='%1.2f%%')\n",
        "plt.show()\n",
        ""
      ],
      "metadata": {
        "colab": {
          "base_uri": "https://localhost:8080/",
          "height": 516
        },
        "id": "y5H2FR9PTZ2_",
        "outputId": "7acb5859-8d68-4634-c820-d78471051731"
      },
      "execution_count": 24,
      "outputs": [
        {
          "output_type": "display_data",
          "data": {
            "text/plain": [
              "<Figure size 640x480 with 1 Axes>"
            ],
            "image/png": "[encoded data removed]"
          },
          "metadata": {}
        }
      ]
    },
    {
      "cell_type": "code",
      "source": [
        "df.hist()\n",
        "plt.show()\n"
      ],
      "metadata": {
        "colab": {
          "base_uri": "https://localhost:8080/",
          "height": 452
        },
        "id": "yuAhs2b1Tcw_",
        "outputId": "2bb9ea27-f1a1-409b-9d36-e56e22c68794"
      },
      "execution_count": 25,
      "outputs": [
        {
          "output_type": "display_data",
          "data": {
            "text/plain": [
              "<Figure size 640x480 with 6 Axes>"
            ],
            "image/png": "[encoded data removed]"
          },
          "metadata": {}
        }
      ]
    },
    {
      "cell_type": "code",
      "source": [
        "df.plot(kind ='density',subplots = True, layout =(3,3),sharex = False)"
      ],
      "metadata": {
        "colab": {
          "base_uri": "https://localhost:8080/",
          "height": 412
        },
        "id": "zGeZTtCzTfpB",
        "outputId": "40703f1b-d90c-4b38-c99f-3c0520751516"
      },
      "execution_count": 26,
      "outputs": [
        {
          "output_type": "execute_result",
          "data": {
            "text/plain": [
              "array([[<Axes: ylabel='Density'>, <Axes: ylabel='Density'>,\n",
              "        <Axes: ylabel='Density'>],\n",
              "       [<Axes: ylabel='Density'>, <Axes: ylabel='Density'>,\n",
              "        <Axes: ylabel='Density'>],\n",
              "       [<Axes: ylabel='Density'>, <Axes: ylabel='Density'>,\n",
              "        <Axes: ylabel='Density'>]], dtype=object)"
            ]
          },
          "metadata": {},
          "execution_count": 26
        },
        {
          "output_type": "display_data",
          "data": {
            "text/plain": [
              "<Figure size 640x480 with 9 Axes>"
            ],
            "image/png": "[encoded data removed]"
          },
          "metadata": {}
        }
      ]
    }
  ]
}